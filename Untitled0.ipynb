{
  "nbformat": 4,
  "nbformat_minor": 0,
  "metadata": {
    "colab": {
      "provenance": [],
      "toc_visible": true,
      "authorship_tag": "ABX9TyMlMHnNLzM8F3qrzy2AUKbU",
      "include_colab_link": true
    },
    "kernelspec": {
      "name": "python3",
      "display_name": "Python 3"
    },
    "language_info": {
      "name": "python"
    }
  },
  "cells": [
    {
      "cell_type": "markdown",
      "metadata": {
        "id": "view-in-github",
        "colab_type": "text"
      },
      "source": [
        "<a href=\"https://colab.research.google.com/github/iorozcob/ejemplo_IO1/blob/main/Untitled0.ipynb\" target=\"_parent\"><img src=\"https://colab.research.google.com/assets/colab-badge.svg\" alt=\"Open In Colab\"/></a>"
      ]
    },
    {
      "cell_type": "markdown",
      "source": [
        "#el hola mundo de toda la vida"
      ],
      "metadata": {
        "id": "1UVlSY_B2APV"
      }
    },
    {
      "cell_type": "code",
      "execution_count": 2,
      "metadata": {
        "colab": {
          "base_uri": "https://localhost:8080/"
        },
        "id": "jcYEqiJl1vS0",
        "outputId": "b8ab565e-ef63-4348-e6ae-2176e4326932"
      },
      "outputs": [
        {
          "output_type": "stream",
          "name": "stdout",
          "text": [
            "hola mundo\n"
          ]
        }
      ],
      "source": [
        "#hola\n",
        "print(\"hola mundo\")"
      ]
    },
    {
      "cell_type": "markdown",
      "source": [
        "#hellouda\n",
        "\n",
        "\n"
      ],
      "metadata": {
        "id": "kddgR2Xh175d"
      }
    },
    {
      "cell_type": "code",
      "source": [
        "#crear una variable\n",
        "a = \"programacion\"\n",
        "\n",
        "lista_a = [a,\"b\",\"c\"]\n",
        "\n",
        "print(lista_a)"
      ],
      "metadata": {
        "colab": {
          "base_uri": "https://localhost:8080/"
        },
        "id": "DYMyniHO1_LW",
        "outputId": "38becbc6-165e-40ad-c86c-1ffa65df3d5b"
      },
      "execution_count": 11,
      "outputs": [
        {
          "output_type": "stream",
          "name": "stdout",
          "text": [
            "['programacion', 'b', 'c']\n"
          ]
        }
      ]
    }
  ]
}